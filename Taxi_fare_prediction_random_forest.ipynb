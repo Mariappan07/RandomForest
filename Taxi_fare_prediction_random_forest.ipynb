{
  "nbformat": 4,
  "nbformat_minor": 0,
  "metadata": {
    "colab": {
      "name": "Taxi fare prediction random forest.ipynb",
      "provenance": [],
      "collapsed_sections": [],
      "authorship_tag": "ABX9TyMgNtV7RyYKH2Wn0s1JGK68",
      "include_colab_link": true
    },
    "kernelspec": {
      "name": "python3",
      "display_name": "Python 3"
    },
    "language_info": {
      "name": "python"
    }
  },
  "cells": [
    {
      "cell_type": "markdown",
      "metadata": {
        "id": "view-in-github",
        "colab_type": "text"
      },
      "source": [
        "<a href=\"https://colab.research.google.com/github/Mariappan07/RandomForest--wine/blob/main/Taxi_fare_prediction_random_forest.ipynb\" target=\"_parent\"><img src=\"https://colab.research.google.com/assets/colab-badge.svg\" alt=\"Open In Colab\"/></a>"
      ]
    },
    {
      "cell_type": "code",
      "execution_count": 28,
      "metadata": {
        "id": "vU3DKvoUiWrf"
      },
      "outputs": [],
      "source": [
        "import numpy as np\n",
        "import pandas as pd\n",
        "import matplotlib.pyplot as plt\n",
        "import seaborn as sns\n",
        "from sklearn.model_selection import train_test_split\n",
        "from sklearn.ensemble import RandomForestRegressor"
      ]
    },
    {
      "cell_type": "code",
      "source": [
        "data = pd.read_csv(\"/content/TaxiFare.csv\")"
      ],
      "metadata": {
        "id": "UkFfogPRjkN8"
      },
      "execution_count": 29,
      "outputs": []
    },
    {
      "cell_type": "code",
      "source": [
        "data"
      ],
      "metadata": {
        "colab": {
          "base_uri": "https://localhost:8080/",
          "height": 424
        },
        "id": "iUNagMUdkGz6",
        "outputId": "54e19765-3dbc-4f58-d993-c2b757a8211d"
      },
      "execution_count": 30,
      "outputs": [
        {
          "output_type": "execute_result",
          "data": {
            "text/plain": [
              "      unique_id  amount      date_time_of_pickup  longitude_of_pickup  \\\n",
              "0       26:21.0     4.5  2009-06-15 17:26:21 UTC           -73.844311   \n",
              "1       52:16.0    16.9  2010-01-05 16:52:16 UTC           -74.016048   \n",
              "2       35:00.0     5.7  2011-08-18 00:35:00 UTC           -73.982738   \n",
              "3       30:42.0     7.7  2012-04-21 04:30:42 UTC           -73.987130   \n",
              "4       51:00.0     5.3  2010-03-09 07:51:00 UTC           -73.968095   \n",
              "...         ...     ...                      ...                  ...   \n",
              "49995   25:15.0    15.0  2013-06-12 23:25:15 UTC           -73.999973   \n",
              "49996   19:18.0     7.5  2015-06-22 17:19:18 UTC           -73.984756   \n",
              "49997   53:00.0     6.9  2011-01-30 04:53:00 UTC           -74.002698   \n",
              "49998   09:00.0     4.5  2012-11-06 07:09:00 UTC           -73.946062   \n",
              "49999   13:14.0    10.9  2010-01-13 08:13:14 UTC           -73.932603   \n",
              "\n",
              "       latitude_of_pickup  longitude_of_dropoff  latitude_of_dropoff  \\\n",
              "0               40.721319            -73.841610            40.712278   \n",
              "1               40.711303            -73.979268            40.782004   \n",
              "2               40.761270            -73.991242            40.750562   \n",
              "3               40.733143            -73.991567            40.758092   \n",
              "4               40.768008            -73.956655            40.783762   \n",
              "...                   ...                   ...                  ...   \n",
              "49995           40.748531            -74.016899            40.705993   \n",
              "49996           40.768211            -73.987366            40.760597   \n",
              "49997           40.739428            -73.998108            40.759483   \n",
              "49998           40.777567            -73.953450            40.779687   \n",
              "49999           40.763805            -73.932603            40.763805   \n",
              "\n",
              "       no_of_passenger  \n",
              "0                    1  \n",
              "1                    1  \n",
              "2                    2  \n",
              "3                    1  \n",
              "4                    1  \n",
              "...                ...  \n",
              "49995                1  \n",
              "49996                1  \n",
              "49997                1  \n",
              "49998                2  \n",
              "49999                1  \n",
              "\n",
              "[50000 rows x 8 columns]"
            ],
            "text/html": [
              "\n",
              "  <div id=\"df-838f3629-c273-4761-8235-ef1c11423de2\">\n",
              "    <div class=\"colab-df-container\">\n",
              "      <div>\n",
              "<style scoped>\n",
              "    .dataframe tbody tr th:only-of-type {\n",
              "        vertical-align: middle;\n",
              "    }\n",
              "\n",
              "    .dataframe tbody tr th {\n",
              "        vertical-align: top;\n",
              "    }\n",
              "\n",
              "    .dataframe thead th {\n",
              "        text-align: right;\n",
              "    }\n",
              "</style>\n",
              "<table border=\"1\" class=\"dataframe\">\n",
              "  <thead>\n",
              "    <tr style=\"text-align: right;\">\n",
              "      <th></th>\n",
              "      <th>unique_id</th>\n",
              "      <th>amount</th>\n",
              "      <th>date_time_of_pickup</th>\n",
              "      <th>longitude_of_pickup</th>\n",
              "      <th>latitude_of_pickup</th>\n",
              "      <th>longitude_of_dropoff</th>\n",
              "      <th>latitude_of_dropoff</th>\n",
              "      <th>no_of_passenger</th>\n",
              "    </tr>\n",
              "  </thead>\n",
              "  <tbody>\n",
              "    <tr>\n",
              "      <th>0</th>\n",
              "      <td>26:21.0</td>\n",
              "      <td>4.5</td>\n",
              "      <td>2009-06-15 17:26:21 UTC</td>\n",
              "      <td>-73.844311</td>\n",
              "      <td>40.721319</td>\n",
              "      <td>-73.841610</td>\n",
              "      <td>40.712278</td>\n",
              "      <td>1</td>\n",
              "    </tr>\n",
              "    <tr>\n",
              "      <th>1</th>\n",
              "      <td>52:16.0</td>\n",
              "      <td>16.9</td>\n",
              "      <td>2010-01-05 16:52:16 UTC</td>\n",
              "      <td>-74.016048</td>\n",
              "      <td>40.711303</td>\n",
              "      <td>-73.979268</td>\n",
              "      <td>40.782004</td>\n",
              "      <td>1</td>\n",
              "    </tr>\n",
              "    <tr>\n",
              "      <th>2</th>\n",
              "      <td>35:00.0</td>\n",
              "      <td>5.7</td>\n",
              "      <td>2011-08-18 00:35:00 UTC</td>\n",
              "      <td>-73.982738</td>\n",
              "      <td>40.761270</td>\n",
              "      <td>-73.991242</td>\n",
              "      <td>40.750562</td>\n",
              "      <td>2</td>\n",
              "    </tr>\n",
              "    <tr>\n",
              "      <th>3</th>\n",
              "      <td>30:42.0</td>\n",
              "      <td>7.7</td>\n",
              "      <td>2012-04-21 04:30:42 UTC</td>\n",
              "      <td>-73.987130</td>\n",
              "      <td>40.733143</td>\n",
              "      <td>-73.991567</td>\n",
              "      <td>40.758092</td>\n",
              "      <td>1</td>\n",
              "    </tr>\n",
              "    <tr>\n",
              "      <th>4</th>\n",
              "      <td>51:00.0</td>\n",
              "      <td>5.3</td>\n",
              "      <td>2010-03-09 07:51:00 UTC</td>\n",
              "      <td>-73.968095</td>\n",
              "      <td>40.768008</td>\n",
              "      <td>-73.956655</td>\n",
              "      <td>40.783762</td>\n",
              "      <td>1</td>\n",
              "    </tr>\n",
              "    <tr>\n",
              "      <th>...</th>\n",
              "      <td>...</td>\n",
              "      <td>...</td>\n",
              "      <td>...</td>\n",
              "      <td>...</td>\n",
              "      <td>...</td>\n",
              "      <td>...</td>\n",
              "      <td>...</td>\n",
              "      <td>...</td>\n",
              "    </tr>\n",
              "    <tr>\n",
              "      <th>49995</th>\n",
              "      <td>25:15.0</td>\n",
              "      <td>15.0</td>\n",
              "      <td>2013-06-12 23:25:15 UTC</td>\n",
              "      <td>-73.999973</td>\n",
              "      <td>40.748531</td>\n",
              "      <td>-74.016899</td>\n",
              "      <td>40.705993</td>\n",
              "      <td>1</td>\n",
              "    </tr>\n",
              "    <tr>\n",
              "      <th>49996</th>\n",
              "      <td>19:18.0</td>\n",
              "      <td>7.5</td>\n",
              "      <td>2015-06-22 17:19:18 UTC</td>\n",
              "      <td>-73.984756</td>\n",
              "      <td>40.768211</td>\n",
              "      <td>-73.987366</td>\n",
              "      <td>40.760597</td>\n",
              "      <td>1</td>\n",
              "    </tr>\n",
              "    <tr>\n",
              "      <th>49997</th>\n",
              "      <td>53:00.0</td>\n",
              "      <td>6.9</td>\n",
              "      <td>2011-01-30 04:53:00 UTC</td>\n",
              "      <td>-74.002698</td>\n",
              "      <td>40.739428</td>\n",
              "      <td>-73.998108</td>\n",
              "      <td>40.759483</td>\n",
              "      <td>1</td>\n",
              "    </tr>\n",
              "    <tr>\n",
              "      <th>49998</th>\n",
              "      <td>09:00.0</td>\n",
              "      <td>4.5</td>\n",
              "      <td>2012-11-06 07:09:00 UTC</td>\n",
              "      <td>-73.946062</td>\n",
              "      <td>40.777567</td>\n",
              "      <td>-73.953450</td>\n",
              "      <td>40.779687</td>\n",
              "      <td>2</td>\n",
              "    </tr>\n",
              "    <tr>\n",
              "      <th>49999</th>\n",
              "      <td>13:14.0</td>\n",
              "      <td>10.9</td>\n",
              "      <td>2010-01-13 08:13:14 UTC</td>\n",
              "      <td>-73.932603</td>\n",
              "      <td>40.763805</td>\n",
              "      <td>-73.932603</td>\n",
              "      <td>40.763805</td>\n",
              "      <td>1</td>\n",
              "    </tr>\n",
              "  </tbody>\n",
              "</table>\n",
              "<p>50000 rows × 8 columns</p>\n",
              "</div>\n",
              "      <button class=\"colab-df-convert\" onclick=\"convertToInteractive('df-838f3629-c273-4761-8235-ef1c11423de2')\"\n",
              "              title=\"Convert this dataframe to an interactive table.\"\n",
              "              style=\"display:none;\">\n",
              "        \n",
              "  <svg xmlns=\"http://www.w3.org/2000/svg\" height=\"24px\"viewBox=\"0 0 24 24\"\n",
              "       width=\"24px\">\n",
              "    <path d=\"M0 0h24v24H0V0z\" fill=\"none\"/>\n",
              "    <path d=\"M18.56 5.44l.94 2.06.94-2.06 2.06-.94-2.06-.94-.94-2.06-.94 2.06-2.06.94zm-11 1L8.5 8.5l.94-2.06 2.06-.94-2.06-.94L8.5 2.5l-.94 2.06-2.06.94zm10 10l.94 2.06.94-2.06 2.06-.94-2.06-.94-.94-2.06-.94 2.06-2.06.94z\"/><path d=\"M17.41 7.96l-1.37-1.37c-.4-.4-.92-.59-1.43-.59-.52 0-1.04.2-1.43.59L10.3 9.45l-7.72 7.72c-.78.78-.78 2.05 0 2.83L4 21.41c.39.39.9.59 1.41.59.51 0 1.02-.2 1.41-.59l7.78-7.78 2.81-2.81c.8-.78.8-2.07 0-2.86zM5.41 20L4 18.59l7.72-7.72 1.47 1.35L5.41 20z\"/>\n",
              "  </svg>\n",
              "      </button>\n",
              "      \n",
              "  <style>\n",
              "    .colab-df-container {\n",
              "      display:flex;\n",
              "      flex-wrap:wrap;\n",
              "      gap: 12px;\n",
              "    }\n",
              "\n",
              "    .colab-df-convert {\n",
              "      background-color: #E8F0FE;\n",
              "      border: none;\n",
              "      border-radius: 50%;\n",
              "      cursor: pointer;\n",
              "      display: none;\n",
              "      fill: #1967D2;\n",
              "      height: 32px;\n",
              "      padding: 0 0 0 0;\n",
              "      width: 32px;\n",
              "    }\n",
              "\n",
              "    .colab-df-convert:hover {\n",
              "      background-color: #E2EBFA;\n",
              "      box-shadow: 0px 1px 2px rgba(60, 64, 67, 0.3), 0px 1px 3px 1px rgba(60, 64, 67, 0.15);\n",
              "      fill: #174EA6;\n",
              "    }\n",
              "\n",
              "    [theme=dark] .colab-df-convert {\n",
              "      background-color: #3B4455;\n",
              "      fill: #D2E3FC;\n",
              "    }\n",
              "\n",
              "    [theme=dark] .colab-df-convert:hover {\n",
              "      background-color: #434B5C;\n",
              "      box-shadow: 0px 1px 3px 1px rgba(0, 0, 0, 0.15);\n",
              "      filter: drop-shadow(0px 1px 2px rgba(0, 0, 0, 0.3));\n",
              "      fill: #FFFFFF;\n",
              "    }\n",
              "  </style>\n",
              "\n",
              "      <script>\n",
              "        const buttonEl =\n",
              "          document.querySelector('#df-838f3629-c273-4761-8235-ef1c11423de2 button.colab-df-convert');\n",
              "        buttonEl.style.display =\n",
              "          google.colab.kernel.accessAllowed ? 'block' : 'none';\n",
              "\n",
              "        async function convertToInteractive(key) {\n",
              "          const element = document.querySelector('#df-838f3629-c273-4761-8235-ef1c11423de2');\n",
              "          const dataTable =\n",
              "            await google.colab.kernel.invokeFunction('convertToInteractive',\n",
              "                                                     [key], {});\n",
              "          if (!dataTable) return;\n",
              "\n",
              "          const docLinkHtml = 'Like what you see? Visit the ' +\n",
              "            '<a target=\"_blank\" href=https://colab.research.google.com/notebooks/data_table.ipynb>data table notebook</a>'\n",
              "            + ' to learn more about interactive tables.';\n",
              "          element.innerHTML = '';\n",
              "          dataTable['output_type'] = 'display_data';\n",
              "          await google.colab.output.renderOutput(dataTable, element);\n",
              "          const docLink = document.createElement('div');\n",
              "          docLink.innerHTML = docLinkHtml;\n",
              "          element.appendChild(docLink);\n",
              "        }\n",
              "      </script>\n",
              "    </div>\n",
              "  </div>\n",
              "  "
            ]
          },
          "metadata": {},
          "execution_count": 30
        }
      ]
    },
    {
      "cell_type": "code",
      "source": [
        "data.columns"
      ],
      "metadata": {
        "colab": {
          "base_uri": "https://localhost:8080/"
        },
        "id": "AmHljEDclnpw",
        "outputId": "5d27b05b-cabe-4887-9adf-25248acd4eea"
      },
      "execution_count": 31,
      "outputs": [
        {
          "output_type": "execute_result",
          "data": {
            "text/plain": [
              "Index(['unique_id', 'amount', 'date_time_of_pickup', 'longitude_of_pickup',\n",
              "       'latitude_of_pickup', 'longitude_of_dropoff', 'latitude_of_dropoff',\n",
              "       'no_of_passenger'],\n",
              "      dtype='object')"
            ]
          },
          "metadata": {},
          "execution_count": 31
        }
      ]
    },
    {
      "cell_type": "code",
      "source": [
        "data.info()\n",
        "data2=data.drop([\"date_time_of_pickup\",\"unique_id\"],axis=1)\n"
      ],
      "metadata": {
        "colab": {
          "base_uri": "https://localhost:8080/"
        },
        "id": "nZQdNJkPkH9m",
        "outputId": "085898e5-f94a-4b7f-8d13-19c567e87267"
      },
      "execution_count": 32,
      "outputs": [
        {
          "output_type": "stream",
          "name": "stdout",
          "text": [
            "<class 'pandas.core.frame.DataFrame'>\n",
            "RangeIndex: 50000 entries, 0 to 49999\n",
            "Data columns (total 8 columns):\n",
            " #   Column                Non-Null Count  Dtype  \n",
            "---  ------                --------------  -----  \n",
            " 0   unique_id             50000 non-null  object \n",
            " 1   amount                50000 non-null  float64\n",
            " 2   date_time_of_pickup   50000 non-null  object \n",
            " 3   longitude_of_pickup   50000 non-null  float64\n",
            " 4   latitude_of_pickup    50000 non-null  float64\n",
            " 5   longitude_of_dropoff  50000 non-null  float64\n",
            " 6   latitude_of_dropoff   50000 non-null  float64\n",
            " 7   no_of_passenger       50000 non-null  int64  \n",
            "dtypes: float64(5), int64(1), object(2)\n",
            "memory usage: 3.1+ MB\n"
          ]
        }
      ]
    },
    {
      "cell_type": "code",
      "source": [
        "data2"
      ],
      "metadata": {
        "colab": {
          "base_uri": "https://localhost:8080/",
          "height": 424
        },
        "id": "ivAwn-xukKC8",
        "outputId": "2e008dd7-6c0e-4676-934f-d08d4ba57833"
      },
      "execution_count": 33,
      "outputs": [
        {
          "output_type": "execute_result",
          "data": {
            "text/plain": [
              "       amount  longitude_of_pickup  latitude_of_pickup  longitude_of_dropoff  \\\n",
              "0         4.5           -73.844311           40.721319            -73.841610   \n",
              "1        16.9           -74.016048           40.711303            -73.979268   \n",
              "2         5.7           -73.982738           40.761270            -73.991242   \n",
              "3         7.7           -73.987130           40.733143            -73.991567   \n",
              "4         5.3           -73.968095           40.768008            -73.956655   \n",
              "...       ...                  ...                 ...                   ...   \n",
              "49995    15.0           -73.999973           40.748531            -74.016899   \n",
              "49996     7.5           -73.984756           40.768211            -73.987366   \n",
              "49997     6.9           -74.002698           40.739428            -73.998108   \n",
              "49998     4.5           -73.946062           40.777567            -73.953450   \n",
              "49999    10.9           -73.932603           40.763805            -73.932603   \n",
              "\n",
              "       latitude_of_dropoff  no_of_passenger  \n",
              "0                40.712278                1  \n",
              "1                40.782004                1  \n",
              "2                40.750562                2  \n",
              "3                40.758092                1  \n",
              "4                40.783762                1  \n",
              "...                    ...              ...  \n",
              "49995            40.705993                1  \n",
              "49996            40.760597                1  \n",
              "49997            40.759483                1  \n",
              "49998            40.779687                2  \n",
              "49999            40.763805                1  \n",
              "\n",
              "[50000 rows x 6 columns]"
            ],
            "text/html": [
              "\n",
              "  <div id=\"df-1d0a48bf-8eae-4310-b728-f2c7b06d62e4\">\n",
              "    <div class=\"colab-df-container\">\n",
              "      <div>\n",
              "<style scoped>\n",
              "    .dataframe tbody tr th:only-of-type {\n",
              "        vertical-align: middle;\n",
              "    }\n",
              "\n",
              "    .dataframe tbody tr th {\n",
              "        vertical-align: top;\n",
              "    }\n",
              "\n",
              "    .dataframe thead th {\n",
              "        text-align: right;\n",
              "    }\n",
              "</style>\n",
              "<table border=\"1\" class=\"dataframe\">\n",
              "  <thead>\n",
              "    <tr style=\"text-align: right;\">\n",
              "      <th></th>\n",
              "      <th>amount</th>\n",
              "      <th>longitude_of_pickup</th>\n",
              "      <th>latitude_of_pickup</th>\n",
              "      <th>longitude_of_dropoff</th>\n",
              "      <th>latitude_of_dropoff</th>\n",
              "      <th>no_of_passenger</th>\n",
              "    </tr>\n",
              "  </thead>\n",
              "  <tbody>\n",
              "    <tr>\n",
              "      <th>0</th>\n",
              "      <td>4.5</td>\n",
              "      <td>-73.844311</td>\n",
              "      <td>40.721319</td>\n",
              "      <td>-73.841610</td>\n",
              "      <td>40.712278</td>\n",
              "      <td>1</td>\n",
              "    </tr>\n",
              "    <tr>\n",
              "      <th>1</th>\n",
              "      <td>16.9</td>\n",
              "      <td>-74.016048</td>\n",
              "      <td>40.711303</td>\n",
              "      <td>-73.979268</td>\n",
              "      <td>40.782004</td>\n",
              "      <td>1</td>\n",
              "    </tr>\n",
              "    <tr>\n",
              "      <th>2</th>\n",
              "      <td>5.7</td>\n",
              "      <td>-73.982738</td>\n",
              "      <td>40.761270</td>\n",
              "      <td>-73.991242</td>\n",
              "      <td>40.750562</td>\n",
              "      <td>2</td>\n",
              "    </tr>\n",
              "    <tr>\n",
              "      <th>3</th>\n",
              "      <td>7.7</td>\n",
              "      <td>-73.987130</td>\n",
              "      <td>40.733143</td>\n",
              "      <td>-73.991567</td>\n",
              "      <td>40.758092</td>\n",
              "      <td>1</td>\n",
              "    </tr>\n",
              "    <tr>\n",
              "      <th>4</th>\n",
              "      <td>5.3</td>\n",
              "      <td>-73.968095</td>\n",
              "      <td>40.768008</td>\n",
              "      <td>-73.956655</td>\n",
              "      <td>40.783762</td>\n",
              "      <td>1</td>\n",
              "    </tr>\n",
              "    <tr>\n",
              "      <th>...</th>\n",
              "      <td>...</td>\n",
              "      <td>...</td>\n",
              "      <td>...</td>\n",
              "      <td>...</td>\n",
              "      <td>...</td>\n",
              "      <td>...</td>\n",
              "    </tr>\n",
              "    <tr>\n",
              "      <th>49995</th>\n",
              "      <td>15.0</td>\n",
              "      <td>-73.999973</td>\n",
              "      <td>40.748531</td>\n",
              "      <td>-74.016899</td>\n",
              "      <td>40.705993</td>\n",
              "      <td>1</td>\n",
              "    </tr>\n",
              "    <tr>\n",
              "      <th>49996</th>\n",
              "      <td>7.5</td>\n",
              "      <td>-73.984756</td>\n",
              "      <td>40.768211</td>\n",
              "      <td>-73.987366</td>\n",
              "      <td>40.760597</td>\n",
              "      <td>1</td>\n",
              "    </tr>\n",
              "    <tr>\n",
              "      <th>49997</th>\n",
              "      <td>6.9</td>\n",
              "      <td>-74.002698</td>\n",
              "      <td>40.739428</td>\n",
              "      <td>-73.998108</td>\n",
              "      <td>40.759483</td>\n",
              "      <td>1</td>\n",
              "    </tr>\n",
              "    <tr>\n",
              "      <th>49998</th>\n",
              "      <td>4.5</td>\n",
              "      <td>-73.946062</td>\n",
              "      <td>40.777567</td>\n",
              "      <td>-73.953450</td>\n",
              "      <td>40.779687</td>\n",
              "      <td>2</td>\n",
              "    </tr>\n",
              "    <tr>\n",
              "      <th>49999</th>\n",
              "      <td>10.9</td>\n",
              "      <td>-73.932603</td>\n",
              "      <td>40.763805</td>\n",
              "      <td>-73.932603</td>\n",
              "      <td>40.763805</td>\n",
              "      <td>1</td>\n",
              "    </tr>\n",
              "  </tbody>\n",
              "</table>\n",
              "<p>50000 rows × 6 columns</p>\n",
              "</div>\n",
              "      <button class=\"colab-df-convert\" onclick=\"convertToInteractive('df-1d0a48bf-8eae-4310-b728-f2c7b06d62e4')\"\n",
              "              title=\"Convert this dataframe to an interactive table.\"\n",
              "              style=\"display:none;\">\n",
              "        \n",
              "  <svg xmlns=\"http://www.w3.org/2000/svg\" height=\"24px\"viewBox=\"0 0 24 24\"\n",
              "       width=\"24px\">\n",
              "    <path d=\"M0 0h24v24H0V0z\" fill=\"none\"/>\n",
              "    <path d=\"M18.56 5.44l.94 2.06.94-2.06 2.06-.94-2.06-.94-.94-2.06-.94 2.06-2.06.94zm-11 1L8.5 8.5l.94-2.06 2.06-.94-2.06-.94L8.5 2.5l-.94 2.06-2.06.94zm10 10l.94 2.06.94-2.06 2.06-.94-2.06-.94-.94-2.06-.94 2.06-2.06.94z\"/><path d=\"M17.41 7.96l-1.37-1.37c-.4-.4-.92-.59-1.43-.59-.52 0-1.04.2-1.43.59L10.3 9.45l-7.72 7.72c-.78.78-.78 2.05 0 2.83L4 21.41c.39.39.9.59 1.41.59.51 0 1.02-.2 1.41-.59l7.78-7.78 2.81-2.81c.8-.78.8-2.07 0-2.86zM5.41 20L4 18.59l7.72-7.72 1.47 1.35L5.41 20z\"/>\n",
              "  </svg>\n",
              "      </button>\n",
              "      \n",
              "  <style>\n",
              "    .colab-df-container {\n",
              "      display:flex;\n",
              "      flex-wrap:wrap;\n",
              "      gap: 12px;\n",
              "    }\n",
              "\n",
              "    .colab-df-convert {\n",
              "      background-color: #E8F0FE;\n",
              "      border: none;\n",
              "      border-radius: 50%;\n",
              "      cursor: pointer;\n",
              "      display: none;\n",
              "      fill: #1967D2;\n",
              "      height: 32px;\n",
              "      padding: 0 0 0 0;\n",
              "      width: 32px;\n",
              "    }\n",
              "\n",
              "    .colab-df-convert:hover {\n",
              "      background-color: #E2EBFA;\n",
              "      box-shadow: 0px 1px 2px rgba(60, 64, 67, 0.3), 0px 1px 3px 1px rgba(60, 64, 67, 0.15);\n",
              "      fill: #174EA6;\n",
              "    }\n",
              "\n",
              "    [theme=dark] .colab-df-convert {\n",
              "      background-color: #3B4455;\n",
              "      fill: #D2E3FC;\n",
              "    }\n",
              "\n",
              "    [theme=dark] .colab-df-convert:hover {\n",
              "      background-color: #434B5C;\n",
              "      box-shadow: 0px 1px 3px 1px rgba(0, 0, 0, 0.15);\n",
              "      filter: drop-shadow(0px 1px 2px rgba(0, 0, 0, 0.3));\n",
              "      fill: #FFFFFF;\n",
              "    }\n",
              "  </style>\n",
              "\n",
              "      <script>\n",
              "        const buttonEl =\n",
              "          document.querySelector('#df-1d0a48bf-8eae-4310-b728-f2c7b06d62e4 button.colab-df-convert');\n",
              "        buttonEl.style.display =\n",
              "          google.colab.kernel.accessAllowed ? 'block' : 'none';\n",
              "\n",
              "        async function convertToInteractive(key) {\n",
              "          const element = document.querySelector('#df-1d0a48bf-8eae-4310-b728-f2c7b06d62e4');\n",
              "          const dataTable =\n",
              "            await google.colab.kernel.invokeFunction('convertToInteractive',\n",
              "                                                     [key], {});\n",
              "          if (!dataTable) return;\n",
              "\n",
              "          const docLinkHtml = 'Like what you see? Visit the ' +\n",
              "            '<a target=\"_blank\" href=https://colab.research.google.com/notebooks/data_table.ipynb>data table notebook</a>'\n",
              "            + ' to learn more about interactive tables.';\n",
              "          element.innerHTML = '';\n",
              "          dataTable['output_type'] = 'display_data';\n",
              "          await google.colab.output.renderOutput(dataTable, element);\n",
              "          const docLink = document.createElement('div');\n",
              "          docLink.innerHTML = docLinkHtml;\n",
              "          element.appendChild(docLink);\n",
              "        }\n",
              "      </script>\n",
              "    </div>\n",
              "  </div>\n",
              "  "
            ]
          },
          "metadata": {},
          "execution_count": 33
        }
      ]
    },
    {
      "cell_type": "code",
      "source": [
        "data2.columns"
      ],
      "metadata": {
        "colab": {
          "base_uri": "https://localhost:8080/"
        },
        "id": "RjN7H2PRkTkJ",
        "outputId": "853fa495-845b-47f3-f4e0-42aa13aa8277"
      },
      "execution_count": 34,
      "outputs": [
        {
          "output_type": "execute_result",
          "data": {
            "text/plain": [
              "Index(['amount', 'longitude_of_pickup', 'latitude_of_pickup',\n",
              "       'longitude_of_dropoff', 'latitude_of_dropoff', 'no_of_passenger'],\n",
              "      dtype='object')"
            ]
          },
          "metadata": {},
          "execution_count": 34
        }
      ]
    },
    {
      "cell_type": "code",
      "source": [
        "data2.info()"
      ],
      "metadata": {
        "colab": {
          "base_uri": "https://localhost:8080/"
        },
        "id": "qdnesE0gkZ3Z",
        "outputId": "1eb7d6fc-2ed4-4774-9d79-00744f3dfeff"
      },
      "execution_count": 35,
      "outputs": [
        {
          "output_type": "stream",
          "name": "stdout",
          "text": [
            "<class 'pandas.core.frame.DataFrame'>\n",
            "RangeIndex: 50000 entries, 0 to 49999\n",
            "Data columns (total 6 columns):\n",
            " #   Column                Non-Null Count  Dtype  \n",
            "---  ------                --------------  -----  \n",
            " 0   amount                50000 non-null  float64\n",
            " 1   longitude_of_pickup   50000 non-null  float64\n",
            " 2   latitude_of_pickup    50000 non-null  float64\n",
            " 3   longitude_of_dropoff  50000 non-null  float64\n",
            " 4   latitude_of_dropoff   50000 non-null  float64\n",
            " 5   no_of_passenger       50000 non-null  int64  \n",
            "dtypes: float64(5), int64(1)\n",
            "memory usage: 2.3 MB\n"
          ]
        }
      ]
    },
    {
      "cell_type": "code",
      "source": [
        "data2.corr()"
      ],
      "metadata": {
        "colab": {
          "base_uri": "https://localhost:8080/",
          "height": 238
        },
        "id": "HPSfSpWkrQkd",
        "outputId": "1ae7b9c6-a99f-427d-b71a-fa1dd918b51a"
      },
      "execution_count": 59,
      "outputs": [
        {
          "output_type": "execute_result",
          "data": {
            "text/plain": [
              "                        amount  longitude_of_pickup  latitude_of_pickup  \\\n",
              "amount                1.000000             0.005944           -0.007338   \n",
              "longitude_of_pickup   0.005944             1.000000           -0.950588   \n",
              "latitude_of_pickup   -0.007338            -0.950588            1.000000   \n",
              "longitude_of_dropoff  0.004286             0.956131           -0.911123   \n",
              "latitude_of_dropoff  -0.005442            -0.946968            0.928189   \n",
              "no_of_passenger       0.016583            -0.005604            0.003237   \n",
              "\n",
              "                      longitude_of_dropoff  latitude_of_dropoff  \\\n",
              "amount                            0.004286            -0.005442   \n",
              "longitude_of_pickup               0.956131            -0.946968   \n",
              "latitude_of_pickup               -0.911123             0.928189   \n",
              "longitude_of_dropoff              1.000000            -0.982117   \n",
              "latitude_of_dropoff              -0.982117             1.000000   \n",
              "no_of_passenger                  -0.004936             0.002958   \n",
              "\n",
              "                      no_of_passenger  \n",
              "amount                       0.016583  \n",
              "longitude_of_pickup         -0.005604  \n",
              "latitude_of_pickup           0.003237  \n",
              "longitude_of_dropoff        -0.004936  \n",
              "latitude_of_dropoff          0.002958  \n",
              "no_of_passenger              1.000000  "
            ],
            "text/html": [
              "\n",
              "  <div id=\"df-3f0afa5b-cc61-468f-ab8c-40d144abdf79\">\n",
              "    <div class=\"colab-df-container\">\n",
              "      <div>\n",
              "<style scoped>\n",
              "    .dataframe tbody tr th:only-of-type {\n",
              "        vertical-align: middle;\n",
              "    }\n",
              "\n",
              "    .dataframe tbody tr th {\n",
              "        vertical-align: top;\n",
              "    }\n",
              "\n",
              "    .dataframe thead th {\n",
              "        text-align: right;\n",
              "    }\n",
              "</style>\n",
              "<table border=\"1\" class=\"dataframe\">\n",
              "  <thead>\n",
              "    <tr style=\"text-align: right;\">\n",
              "      <th></th>\n",
              "      <th>amount</th>\n",
              "      <th>longitude_of_pickup</th>\n",
              "      <th>latitude_of_pickup</th>\n",
              "      <th>longitude_of_dropoff</th>\n",
              "      <th>latitude_of_dropoff</th>\n",
              "      <th>no_of_passenger</th>\n",
              "    </tr>\n",
              "  </thead>\n",
              "  <tbody>\n",
              "    <tr>\n",
              "      <th>amount</th>\n",
              "      <td>1.000000</td>\n",
              "      <td>0.005944</td>\n",
              "      <td>-0.007338</td>\n",
              "      <td>0.004286</td>\n",
              "      <td>-0.005442</td>\n",
              "      <td>0.016583</td>\n",
              "    </tr>\n",
              "    <tr>\n",
              "      <th>longitude_of_pickup</th>\n",
              "      <td>0.005944</td>\n",
              "      <td>1.000000</td>\n",
              "      <td>-0.950588</td>\n",
              "      <td>0.956131</td>\n",
              "      <td>-0.946968</td>\n",
              "      <td>-0.005604</td>\n",
              "    </tr>\n",
              "    <tr>\n",
              "      <th>latitude_of_pickup</th>\n",
              "      <td>-0.007338</td>\n",
              "      <td>-0.950588</td>\n",
              "      <td>1.000000</td>\n",
              "      <td>-0.911123</td>\n",
              "      <td>0.928189</td>\n",
              "      <td>0.003237</td>\n",
              "    </tr>\n",
              "    <tr>\n",
              "      <th>longitude_of_dropoff</th>\n",
              "      <td>0.004286</td>\n",
              "      <td>0.956131</td>\n",
              "      <td>-0.911123</td>\n",
              "      <td>1.000000</td>\n",
              "      <td>-0.982117</td>\n",
              "      <td>-0.004936</td>\n",
              "    </tr>\n",
              "    <tr>\n",
              "      <th>latitude_of_dropoff</th>\n",
              "      <td>-0.005442</td>\n",
              "      <td>-0.946968</td>\n",
              "      <td>0.928189</td>\n",
              "      <td>-0.982117</td>\n",
              "      <td>1.000000</td>\n",
              "      <td>0.002958</td>\n",
              "    </tr>\n",
              "    <tr>\n",
              "      <th>no_of_passenger</th>\n",
              "      <td>0.016583</td>\n",
              "      <td>-0.005604</td>\n",
              "      <td>0.003237</td>\n",
              "      <td>-0.004936</td>\n",
              "      <td>0.002958</td>\n",
              "      <td>1.000000</td>\n",
              "    </tr>\n",
              "  </tbody>\n",
              "</table>\n",
              "</div>\n",
              "      <button class=\"colab-df-convert\" onclick=\"convertToInteractive('df-3f0afa5b-cc61-468f-ab8c-40d144abdf79')\"\n",
              "              title=\"Convert this dataframe to an interactive table.\"\n",
              "              style=\"display:none;\">\n",
              "        \n",
              "  <svg xmlns=\"http://www.w3.org/2000/svg\" height=\"24px\"viewBox=\"0 0 24 24\"\n",
              "       width=\"24px\">\n",
              "    <path d=\"M0 0h24v24H0V0z\" fill=\"none\"/>\n",
              "    <path d=\"M18.56 5.44l.94 2.06.94-2.06 2.06-.94-2.06-.94-.94-2.06-.94 2.06-2.06.94zm-11 1L8.5 8.5l.94-2.06 2.06-.94-2.06-.94L8.5 2.5l-.94 2.06-2.06.94zm10 10l.94 2.06.94-2.06 2.06-.94-2.06-.94-.94-2.06-.94 2.06-2.06.94z\"/><path d=\"M17.41 7.96l-1.37-1.37c-.4-.4-.92-.59-1.43-.59-.52 0-1.04.2-1.43.59L10.3 9.45l-7.72 7.72c-.78.78-.78 2.05 0 2.83L4 21.41c.39.39.9.59 1.41.59.51 0 1.02-.2 1.41-.59l7.78-7.78 2.81-2.81c.8-.78.8-2.07 0-2.86zM5.41 20L4 18.59l7.72-7.72 1.47 1.35L5.41 20z\"/>\n",
              "  </svg>\n",
              "      </button>\n",
              "      \n",
              "  <style>\n",
              "    .colab-df-container {\n",
              "      display:flex;\n",
              "      flex-wrap:wrap;\n",
              "      gap: 12px;\n",
              "    }\n",
              "\n",
              "    .colab-df-convert {\n",
              "      background-color: #E8F0FE;\n",
              "      border: none;\n",
              "      border-radius: 50%;\n",
              "      cursor: pointer;\n",
              "      display: none;\n",
              "      fill: #1967D2;\n",
              "      height: 32px;\n",
              "      padding: 0 0 0 0;\n",
              "      width: 32px;\n",
              "    }\n",
              "\n",
              "    .colab-df-convert:hover {\n",
              "      background-color: #E2EBFA;\n",
              "      box-shadow: 0px 1px 2px rgba(60, 64, 67, 0.3), 0px 1px 3px 1px rgba(60, 64, 67, 0.15);\n",
              "      fill: #174EA6;\n",
              "    }\n",
              "\n",
              "    [theme=dark] .colab-df-convert {\n",
              "      background-color: #3B4455;\n",
              "      fill: #D2E3FC;\n",
              "    }\n",
              "\n",
              "    [theme=dark] .colab-df-convert:hover {\n",
              "      background-color: #434B5C;\n",
              "      box-shadow: 0px 1px 3px 1px rgba(0, 0, 0, 0.15);\n",
              "      filter: drop-shadow(0px 1px 2px rgba(0, 0, 0, 0.3));\n",
              "      fill: #FFFFFF;\n",
              "    }\n",
              "  </style>\n",
              "\n",
              "      <script>\n",
              "        const buttonEl =\n",
              "          document.querySelector('#df-3f0afa5b-cc61-468f-ab8c-40d144abdf79 button.colab-df-convert');\n",
              "        buttonEl.style.display =\n",
              "          google.colab.kernel.accessAllowed ? 'block' : 'none';\n",
              "\n",
              "        async function convertToInteractive(key) {\n",
              "          const element = document.querySelector('#df-3f0afa5b-cc61-468f-ab8c-40d144abdf79');\n",
              "          const dataTable =\n",
              "            await google.colab.kernel.invokeFunction('convertToInteractive',\n",
              "                                                     [key], {});\n",
              "          if (!dataTable) return;\n",
              "\n",
              "          const docLinkHtml = 'Like what you see? Visit the ' +\n",
              "            '<a target=\"_blank\" href=https://colab.research.google.com/notebooks/data_table.ipynb>data table notebook</a>'\n",
              "            + ' to learn more about interactive tables.';\n",
              "          element.innerHTML = '';\n",
              "          dataTable['output_type'] = 'display_data';\n",
              "          await google.colab.output.renderOutput(dataTable, element);\n",
              "          const docLink = document.createElement('div');\n",
              "          docLink.innerHTML = docLinkHtml;\n",
              "          element.appendChild(docLink);\n",
              "        }\n",
              "      </script>\n",
              "    </div>\n",
              "  </div>\n",
              "  "
            ]
          },
          "metadata": {},
          "execution_count": 59
        }
      ]
    },
    {
      "cell_type": "code",
      "source": [
        "x = data2.drop([\"amount\"],axis=1)\n",
        "y = data2[\"amount\"]"
      ],
      "metadata": {
        "id": "YO4I1Silkkww"
      },
      "execution_count": 60,
      "outputs": []
    },
    {
      "cell_type": "code",
      "source": [
        "x_train,x_test,y_train,y_test = train_test_split(x,y, test_size=0.25, random_state=0)"
      ],
      "metadata": {
        "id": "mEik9UDgknmU"
      },
      "execution_count": 61,
      "outputs": []
    },
    {
      "cell_type": "code",
      "source": [
        "print(x_train.shape)\n",
        "print(x_test.shape)\n",
        "print(y_train.shape)\n",
        "print(y_test.shape)"
      ],
      "metadata": {
        "colab": {
          "base_uri": "https://localhost:8080/"
        },
        "id": "PemuVg8voGn9",
        "outputId": "7877739b-9091-4e72-f081-6d6bff8ba460"
      },
      "execution_count": 62,
      "outputs": [
        {
          "output_type": "stream",
          "name": "stdout",
          "text": [
            "(37500, 5)\n",
            "(12500, 5)\n",
            "(37500,)\n",
            "(12500,)\n"
          ]
        }
      ]
    },
    {
      "cell_type": "code",
      "source": [
        "model = RandomForestRegressor()"
      ],
      "metadata": {
        "id": "gJchMRe_krD5"
      },
      "execution_count": 63,
      "outputs": []
    },
    {
      "cell_type": "code",
      "source": [
        "model.fit(x_train,y_train)"
      ],
      "metadata": {
        "colab": {
          "base_uri": "https://localhost:8080/"
        },
        "id": "Ud1EHf2rndUO",
        "outputId": "3f21842f-d4bf-46e4-e07e-b20341dbd221"
      },
      "execution_count": 64,
      "outputs": [
        {
          "output_type": "execute_result",
          "data": {
            "text/plain": [
              "RandomForestRegressor()"
            ]
          },
          "metadata": {},
          "execution_count": 64
        }
      ]
    },
    {
      "cell_type": "code",
      "source": [
        "pre=model.predict(x_test)"
      ],
      "metadata": {
        "id": "ce1QuYEIngsL"
      },
      "execution_count": 65,
      "outputs": []
    },
    {
      "cell_type": "code",
      "source": [
        "model.predict(x_test)"
      ],
      "metadata": {
        "colab": {
          "base_uri": "https://localhost:8080/"
        },
        "id": "SaivusAxoUls",
        "outputId": "ee970b5f-3a08-4660-9604-19969258f3c7"
      },
      "execution_count": 66,
      "outputs": [
        {
          "output_type": "execute_result",
          "data": {
            "text/plain": [
              "array([ 7.752, 12.741,  5.359, ...,  6.581,  7.589, 23.905])"
            ]
          },
          "metadata": {},
          "execution_count": 66
        }
      ]
    },
    {
      "cell_type": "code",
      "source": [
        "pr=model.predict(x_train)"
      ],
      "metadata": {
        "id": "TumdDQBTpkYH"
      },
      "execution_count": 67,
      "outputs": []
    },
    {
      "cell_type": "code",
      "source": [
        "model.predict(x_train)"
      ],
      "metadata": {
        "colab": {
          "base_uri": "https://localhost:8080/"
        },
        "id": "ER3q12pupqoM",
        "outputId": "5a613667-7e15-4f3e-bcde-5e1ab41d7c7f"
      },
      "execution_count": 68,
      "outputs": [
        {
          "output_type": "execute_result",
          "data": {
            "text/plain": [
              "array([ 9.326 , 11.724 , 14.652 , ...,  5.139 , 49.4927, 10.547 ])"
            ]
          },
          "metadata": {},
          "execution_count": 68
        }
      ]
    },
    {
      "cell_type": "code",
      "source": [
        "from sklearn.metrics import r2_score,mean_squared_error"
      ],
      "metadata": {
        "id": "q8c_6F94oaEH"
      },
      "execution_count": 69,
      "outputs": []
    },
    {
      "cell_type": "code",
      "source": [
        "r2_score(y_test,pre)"
      ],
      "metadata": {
        "colab": {
          "base_uri": "https://localhost:8080/"
        },
        "id": "UP4O-sLXonWE",
        "outputId": "4ce56652-3a13-4d6a-b076-5bfd8d93b090"
      },
      "execution_count": 70,
      "outputs": [
        {
          "output_type": "execute_result",
          "data": {
            "text/plain": [
              "0.7476187111020727"
            ]
          },
          "metadata": {},
          "execution_count": 70
        }
      ]
    },
    {
      "cell_type": "code",
      "source": [
        "mean_squared_error(y_test,pre)"
      ],
      "metadata": {
        "colab": {
          "base_uri": "https://localhost:8080/"
        },
        "id": "bi_gtBhCoqkZ",
        "outputId": "73ed687b-2b7c-4167-b558-504004af9716"
      },
      "execution_count": 71,
      "outputs": [
        {
          "output_type": "execute_result",
          "data": {
            "text/plain": [
              "21.8014812892296"
            ]
          },
          "metadata": {},
          "execution_count": 71
        }
      ]
    },
    {
      "cell_type": "code",
      "source": [
        "r2_score(y_train,pr)"
      ],
      "metadata": {
        "colab": {
          "base_uri": "https://localhost:8080/"
        },
        "id": "g41Fv1_ipE8X",
        "outputId": "f720e91c-4106-48e0-8f37-4a072739807b"
      },
      "execution_count": 72,
      "outputs": [
        {
          "output_type": "execute_result",
          "data": {
            "text/plain": [
              "0.9438131621284983"
            ]
          },
          "metadata": {},
          "execution_count": 72
        }
      ]
    },
    {
      "cell_type": "code",
      "source": [
        "mean_squared_error(y_train,pr)"
      ],
      "metadata": {
        "colab": {
          "base_uri": "https://localhost:8080/"
        },
        "id": "UOLFbUyzpS5x",
        "outputId": "4e42540e-ea22-4954-ae73-32cff1af3cff"
      },
      "execution_count": 73,
      "outputs": [
        {
          "output_type": "execute_result",
          "data": {
            "text/plain": [
              "5.409441434875465"
            ]
          },
          "metadata": {},
          "execution_count": 73
        }
      ]
    },
    {
      "cell_type": "code",
      "source": [
        "plt.hist(data2[\"amount\"])"
      ],
      "metadata": {
        "colab": {
          "base_uri": "https://localhost:8080/",
          "height": 352
        },
        "id": "JrLx4R44p5DK",
        "outputId": "5ea54b33-4836-451c-fc08-c8ae8c045933"
      },
      "execution_count": 74,
      "outputs": [
        {
          "output_type": "execute_result",
          "data": {
            "text/plain": [
              "(array([4.1302e+04, 6.9900e+03, 1.2680e+03, 3.8700e+02, 3.5000e+01,\n",
              "        6.0000e+00, 5.0000e+00, 2.0000e+00, 3.0000e+00, 2.0000e+00]),\n",
              " array([ -5. ,  15.5,  36. ,  56.5,  77. ,  97.5, 118. , 138.5, 159. ,\n",
              "        179.5, 200. ]),\n",
              " <a list of 10 Patch objects>)"
            ]
          },
          "metadata": {},
          "execution_count": 74
        },
        {
          "output_type": "display_data",
          "data": {
            "text/plain": [
              "<Figure size 432x288 with 1 Axes>"
            ],
            "image/png": "[encoded data removed]"
          },
          "metadata": {
            "needs_background": "light"
          }
        }
      ]
    },
    {
      "cell_type": "code",
      "source": [
        ""
      ],
      "metadata": {
        "id": "rcquj815qSsJ"
      },
      "execution_count": null,
      "outputs": []
    }
  ]
}